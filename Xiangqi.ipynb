{
 "cells": [
  {
   "cell_type": "code",
   "execution_count": 3,
   "metadata": {
    "collapsed": false
   },
   "outputs": [],
   "source": [
    "#Engine is created as an extension of a board object\n",
    "#I made this way harder than it should have been,\n",
    "#Should have just been a string array, I'm too committed\n",
    "#Board can still just be used as a string array\n",
    "class Engine(Board):\n",
    "    def __init__(self):\n",
    "        Board.__init__(self)\n",
    "    \n",
    "    \n",
    "    def Display(self):\n",
    "        for i in range(len(self.board)):\n",
    "            for j in range(len(self.board[i])):\n",
    "                print(self.board[i][j], end= ' ')\n",
    "                \n",
    "            print()\n",
    "    \n",
    "    \n",
    "    #def ScanRank(Column, Piece):\n",
    "    #    for i in range(len(self.board)):\n",
    "    #        if(self.board[i][Column]==)\n",
    "    \n",
    "    #How to parse a piece move\n",
    "    def ParseMove(input):\n",
    "        \n",
    "    \n",
    "    def Input(Piece, FormerFile, Operator, NewFile):\n",
    "        #How does this work\n",
    "        if(Operator=='+'):\n",
    "            \n",
    "            pass\n",
    "        elif(Operator=='-'):\n",
    "            pass\n",
    "        elif(Operator=='.'):\n",
    "            pass\n",
    "        elif(Operator=='='):\n",
    "            pass\n",
    "        if(Piece=='A'):\n",
    "            #Advisor\n",
    "            pass\n",
    "        elif(Piece=='C'):\n",
    "            #Cannon\n",
    "            pass\n",
    "        elif(Piece=='R'):\n",
    "            #Chariot\n",
    "            pass\n",
    "        elif(Piece=='E'):\n",
    "            #Elephant\n",
    "            pass\n",
    "        elif(Piece=='G'):\n",
    "            #General\n",
    "            pass\n",
    "        elif(Piece=='H'):\n",
    "            #Horse\n",
    "            pass\n",
    "        elif(Piece=='S'):\n",
    "            #Soldier\n",
    "            pass\n",
    "        pass\n",
    "    \n",
    "    \n",
    "    #Move rules for each piece should be here    \n",
    "    def MoveGeneral():\n",
    "        pass"
   ]
  },
  {
   "cell_type": "code",
   "execution_count": 2,
   "metadata": {
    "collapsed": false
   },
   "outputs": [],
   "source": [
    "#Create board and generate pieces\n",
    "class Board:\n",
    "    def __init__(self):\n",
    "        self.board = [['.']*9 for _ in range(10)]\n",
    "        #Generate all pieces\n",
    "        Piece.__init__(self)"
   ]
  },
  {
   "cell_type": "code",
   "execution_count": 13,
   "metadata": {
    "collapsed": false
   },
   "outputs": [
    {
     "name": "stdout",
     "output_type": "stream",
     "text": [
      "R H E A G A E H R \n",
      ". . . . . . . . . \n",
      ". C . . . . . C . \n",
      "S . S . S . S . S \n",
      ". . . . . . . . . \n",
      ". . . . . . . . . \n",
      "S . S . S . S . S \n",
      ". C . . . . . C . \n",
      ". . . . . . . . . \n",
      "R H E A G A E H R \n"
     ]
    }
   ],
   "source": [
    "x= Engine()\n",
    "x.Display()"
   ]
  },
  {
   "cell_type": "code",
   "execution_count": 5,
   "metadata": {
    "collapsed": true
   },
   "outputs": [],
   "source": [
    "#Wrapper class for all pieces\n",
    "class Piece(Board):\n",
    "    def __init__(self):\n",
    "        #Insert inits for each piece here\n",
    "        #black start\n",
    "        RR1=Chariot.__init__(self, 0, 0, \"black\")\n",
    "        RH1=Horse.__init__(self, 0, 1, \"black\")\n",
    "        RE1=Elephant.__init__(self, 0, 2, \"black\")\n",
    "        RA1=Advisor.__init__(self, 0, 3, \"black\")\n",
    "        RG=General.__init__(self, 0, 4, \"black\")\n",
    "        RA2=Advisor.__init__(self, 0, 5, \"black\")\n",
    "        RE2=Elephant.__init__(self, 0, 6, \"black\")\n",
    "        RH2=Horse.__init__(self, 0, 7, \"black\")\n",
    "        RR2=Chariot.__init__(self, 0, 8, \"black\")\n",
    "        RC1=Cannon.__init__(self, 2, 1, \"black\")\n",
    "        RC2=Cannon.__init__(self, 2, 7, \"black\")\n",
    "        RS1=Soldier.__init__(self, 3, 0, \"black\")\n",
    "        RS2=Soldier.__init__(self, 3, 2, \"black\")\n",
    "        RS3=Soldier.__init__(self, 3, 4, \"black\")\n",
    "        RS4=Soldier.__init__(self, 3, 6, \"black\")\n",
    "        RS5=Soldier.__init__(self, 3, 8, \"black\")\n",
    "        #red\n",
    "        R1=Chariot.__init__(self, 9, 0, \"red\")\n",
    "        RH1=Horse.__init__(self, 9, 1, \"red\")\n",
    "        RE1=Elephant.__init__(self, 9, 2, \"red\")\n",
    "        RA1=Advisor.__init__(self, 9, 3, \"red\")\n",
    "        RG=General.__init__(self, 9, 4, \"red\")\n",
    "        RA2=Advisor.__init__(self, 9, 5, \"red\")\n",
    "        RE2=Elephant.__init__(self, 9, 6, \"red\")\n",
    "        RH2=Horse.__init__(self, 9, 7, \"red\")\n",
    "        RR2=Chariot.__init__(self, 9, 8, \"red\")\n",
    "        RC1=Cannon.__init__(self, 7, 1, \"red\")\n",
    "        RC2=Cannon.__init__(self, 7, 7, \"red\")\n",
    "        RS1=Soldier.__init__(self, 6, 0, \"red\")\n",
    "        RS2=Soldier.__init__(self, 6, 2, \"red\")\n",
    "        RS3=Soldier.__init__(self, 6, 4, \"red\")\n",
    "        RS4=Soldier.__init__(self, 6, 6, \"red\")\n",
    "        RS5=Soldier.__init__(self, 6, 8, \"red\")\n",
    "        \n"
   ]
  },
  {
   "cell_type": "code",
   "execution_count": 6,
   "metadata": {
    "collapsed": false
   },
   "outputs": [],
   "source": [
    "class Elephant(Piece):\n",
    "    def __init__(self, posx, posy, color):\n",
    "        Ptype=color\n",
    "        self.board[posx][posy]='E'\n",
    "    \n",
    "    \n",
    "    def __class__(self):\n",
    "        return 'E'\n",
    "    \n",
    "    def move(posx, posy):\n",
    "        #how2move\n",
    "        pass"
   ]
  },
  {
   "cell_type": "code",
   "execution_count": 7,
   "metadata": {
    "collapsed": true
   },
   "outputs": [],
   "source": [
    "class Horse:\n",
    "    def __init__(self, posx, posy, color):\n",
    "        Ptype=color\n",
    "        self.board[posx][posy]='H'\n",
    "        "
   ]
  },
  {
   "cell_type": "code",
   "execution_count": 8,
   "metadata": {
    "collapsed": false
   },
   "outputs": [],
   "source": [
    "class Chariot:\n",
    "    def __init__(self, posx, posy, color):\n",
    "        Ptype=color\n",
    "        self.board[posx][posy]='R'\n",
    "    "
   ]
  },
  {
   "cell_type": "code",
   "execution_count": 9,
   "metadata": {
    "collapsed": false
   },
   "outputs": [],
   "source": [
    "class Advisor:\n",
    "    def __init__(self, posx, posy, color):\n",
    "        Ptype=color\n",
    "        self.board[posx][posy]='A'\n",
    "    \n"
   ]
  },
  {
   "cell_type": "code",
   "execution_count": 10,
   "metadata": {
    "collapsed": true
   },
   "outputs": [],
   "source": [
    "class Cannon:\n",
    "    def __init__(self, posx, posy, color):\n",
    "        Ptype=color\n",
    "        self.board[posx][posy]='C'\n",
    "    \n"
   ]
  },
  {
   "cell_type": "code",
   "execution_count": 11,
   "metadata": {
    "collapsed": false
   },
   "outputs": [],
   "source": [
    "class General:\n",
    "    def __init__(self, posx, posy, color):\n",
    "        Ptype=color\n",
    "        self.board[posx][posy]='G'\n",
    "    \n"
   ]
  },
  {
   "cell_type": "code",
   "execution_count": 12,
   "metadata": {
    "collapsed": true
   },
   "outputs": [],
   "source": [
    "class Soldier:\n",
    "    def __init__(self, posx, posy, color):\n",
    "        Ptype=color\n",
    "        self.board[posx][posy]='S'\n",
    "    \n"
   ]
  },
  {
   "cell_type": "code",
   "execution_count": null,
   "metadata": {
    "collapsed": true
   },
   "outputs": [],
   "source": []
  }
 ],
 "metadata": {
  "kernelspec": {
   "display_name": "Python 3",
   "language": "python",
   "name": "python3"
  },
  "language_info": {
   "codemirror_mode": {
    "name": "ipython",
    "version": 3
   },
   "file_extension": ".py",
   "mimetype": "text/x-python",
   "name": "python",
   "nbconvert_exporter": "python",
   "pygments_lexer": "ipython3",
   "version": "3.5.1"
  }
 },
 "nbformat": 4,
 "nbformat_minor": 0
}
