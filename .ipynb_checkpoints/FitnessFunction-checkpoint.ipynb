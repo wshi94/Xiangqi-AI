{
 "cells": [
  {
   "cell_type": "code",
   "execution_count": 22,
   "metadata": {
    "collapsed": true
   },
   "outputs": [],
   "source": [
    "import numpy as np"
   ]
  },
  {
   "cell_type": "code",
   "execution_count": 18,
   "metadata": {
    "collapsed": false
   },
   "outputs": [],
   "source": [
    "def PieceFitness(board):\n",
    "    #Evaluates board value for each side\n",
    "    #Returns difference of piece values, red is positive value and uppercase\n",
    "    #black is negative and lowercase, \n",
    "    #tl;dr pos=red winning, neg=black winning\n",
    "    red=0\n",
    "    black=0\n",
    "    for i in range(len(board)):\n",
    "        for j in range(len(board[0])):\n",
    "            if board[i][j]=='.':\n",
    "                continue\n",
    "            elif board[i][j].isupper():\n",
    "                red+=pval(board[i][j], i, j)\n",
    "            else:\n",
    "                black +=pval(board[i][j], i, j)\n",
    "    return  red-black\n",
    " \n",
    "    \n",
    "def pval(piece, i, j):\n",
    "    red=piece.isupper()\n",
    "    p=piece.lower()\n",
    "    if(p=='s'):\n",
    "        if(red):\n",
    "            if(i>4):\n",
    "                return 2\n",
    "            else:\n",
    "                return 1\n",
    "        else:\n",
    "            if(i<5):\n",
    "                return 2\n",
    "            else:\n",
    "                return 1\n",
    "    elif(p=='r'):\n",
    "        return 10\n",
    "    elif(p=='h'):\n",
    "        return 4\n",
    "    elif(p=='c'):\n",
    "        return 4.5\n",
    "    elif(p=='e'):\n",
    "        return 2\n",
    "    elif(p=='a'):\n",
    "        return 2\n",
    "    elif(p=='g'):\n",
    "        return 1000000"
   ]
  },
  {
   "cell_type": "code",
   "execution_count": null,
   "metadata": {
    "collapsed": true
   },
   "outputs": [],
   "source": []
  },
  {
   "cell_type": "code",
   "execution_count": 17,
   "metadata": {
    "collapsed": false
   },
   "outputs": [
    {
     "name": "stdout",
     "output_type": "stream",
     "text": [
      "2\n",
      "1\n",
      "2\n",
      "1\n"
     ]
    }
   ],
   "source": [
    "print(pval('S', 5, 0)) #red, crossed river \n",
    "print(pval('S', 4, 0)) #red, not crossed river\n",
    "print(pval('s', 4, 0)) #black, crossed\n",
    "print(pval('s', 5, 0)) #black, not crossed"
   ]
  },
  {
   "cell_type": "code",
   "execution_count": 19,
   "metadata": {
    "collapsed": true
   },
   "outputs": [],
   "source": [
    "def BoardFitness(board):\n",
    "    #Evaluates positional advantages in the form of structure\n",
    "    #Eval unblocked chariot\n",
    "    \n",
    "    #Eval double cannons\n",
    "    \n",
    "    #Eval elephant-advisor-general formation\n",
    "    \n",
    "    #Eval crossed pawns (is this needed?)\n",
    "    \n",
    "    \n",
    "    pass\n",
    "    "
   ]
  },
  {
   "cell_type": "code",
   "execution_count": 6,
   "metadata": {
    "collapsed": false
   },
   "outputs": [],
   "source": [
    "def AttackingFitness(board):\n",
    "    #evaluates possibility for advantagous trades \n",
    "    sign=True\n",
    "    valb=[['0']*9 for _ in range(10)]\n",
    "    for i in range(len(board)):\n",
    "        for j in range(len(board[0])):\n",
    "            if board[i][j].isupper():\n",
    "                sign=True\n",
    "            else: \n",
    "                sign=False\n",
    "            p=board[i][j].lower()\n",
    "            if(p=='s'):\n",
    "                possS(valb, i, j, sign)\n",
    "            elif(p=='r'):\n",
    "                possR(valb, i, j, sign)\n",
    "            elif(p=='h'):\n",
    "                possH(valb, i, j, sign)\n",
    "            elif(p=='c'):\n",
    "                possC(valb, i, j, sign)\n",
    "            elif(p=='e'):\n",
    "                possE(valb, i, j, sign)\n",
    "            elif(p=='a'):\n",
    "                possA(valb, i, j, sign)\n",
    "            elif(p=='g'):\n",
    "                possG(valb, i, j, sign)"
   ]
  },
  {
   "cell_type": "code",
   "execution_count": 7,
   "metadata": {
    "collapsed": false
   },
   "outputs": [],
   "source": [
    "def inBoard(i, j):\n",
    "    if(i>0 and i<9 and j>0 and j<9):\n",
    "        return True\n",
    "    else:\n",
    "        return False"
   ]
  },
  {
   "cell_type": "code",
   "execution_count": 5,
   "metadata": {
    "collapsed": true
   },
   "outputs": [],
   "source": [
    "#need info from engine implementation\n",
    "def possS(valb, i, j, sign):\n",
    "    v=1/pval('s', i, j)\n",
    "    pass\n",
    "\n",
    "\n",
    "def possR(val, i, j, sign):\n",
    "    v=1/pval('r', i, j)\n",
    "    pass\n",
    "\n",
    "\n",
    "def possH(val, i, j, sign):\n",
    "    v=1/pval('h', i, j)\n",
    "    pass\n",
    "\n",
    "\n",
    "def possC(val, i, j, sign):\n",
    "    v=1/pval('c', i, j)\n",
    "    pass\n",
    "\n",
    "\n",
    "def possE(val, i, j, sign):\n",
    "    v=1/pval('e', i, j)\n",
    "    pass\n",
    "\n",
    "\n",
    "def possA(val, i, j, sign):\n",
    "    v=1/pval('a', i, j)\n",
    "    pass\n",
    "\n",
    "\n",
    "def possG(val, i, j, sign):\n",
    "    v=1/pval('g', i, j)\n",
    "    pass"
   ]
  },
  {
   "cell_type": "code",
   "execution_count": 21,
   "metadata": {
    "collapsed": true
   },
   "outputs": [],
   "source": [
    "def DefenseFitness(board):\n",
    "    #Counts the number of pieces defending a piece being attacked\n",
    "    #on board, then divides it\n",
    "    #by the cost of the defended piece.  All values are then averaged\n",
    "    #This function provides fitness for trades the opposing player initiates\n",
    "    #Since the general cannot be traded, pieces that defend the general do not\n",
    "    #count, only pieces the general defends if the defender has more pieces\n",
    "    #defending than the other player has attacking\n",
    "    pass\n",
    "    \n",
    "    "
   ]
  },
  {
   "cell_type": "code",
   "execution_count": null,
   "metadata": {
    "collapsed": true
   },
   "outputs": [],
   "source": []
  },
  {
   "cell_type": "code",
   "execution_count": 1,
   "metadata": {
    "collapsed": true
   },
   "outputs": [],
   "source": [
    "def pst(board):\n",
    "    #Piece square tables taken from XQWLight, a model XQ Engine by Huang Chen\n",
    "    Gpst=np.array(([[0,  0,  0,  0,  0,  0,  0,  0,  0],\n",
    "    [0,  0,  0,  0,  0,  0,  0,  0,  0],\n",
    "    [0,  0,  0,  0,  0,  0,  0,  0,  0],\n",
    "    [0,  0,  0,  0,  0,  0,  0,  0,  0],\n",
    "    [0,  0,  0,  0,  0,  0,  0,  0,  0],\n",
    "    [0,  0,  0,  0,  0,  0,  0,  0,  0],\n",
    "    [0,  0,  0,  0,  0,  0,  0,  0,  0],\n",
    "    [0,  0,  0,  1,  1,  1,  0,  0,  0],\n",
    "    [0,  0,  0,  2,  2,  2,  0,  0,  0],\n",
    "    [0,  0,  0, 11, 15, 11,  0,  0,  0]]))\n",
    "    Apst=np.array(([[0,  0,  0,  0,  0,  0,  0,  0,  0],\n",
    "    [0,  0,  0,  0,  0,  0,  0,  0,  0],\n",
    "    [0,  0,  0,  0,  0,  0,  0,  0,  0],\n",
    "    [0,  0,  0,  0,  0,  0,  0,  0,  0],\n",
    "    [0,  0,  0,  0,  0,  0,  0,  0,  0],\n",
    "    [0,  0,  0,  0,  0,  0,  0,  0,  0],\n",
    "    [0,  0,  0,  0,  0,  0,  0,  0,  0],\n",
    "    [0,  0,  0, 20,  0, 20,  0,  0,  0],\n",
    "    [0,  0,  0,  0, 23,  0,  0,  0,  0],\n",
    "    [0,  0,  0, 20,  0, 20,  0,  0,  0]]))\n",
    "    Epst=np.array(([[ 0,  0,  0,  0,  0,  0,  0,  0,  0],\n",
    "    [ 0,  0,  0,  0,  0,  0,  0,  0,  0],\n",
    "    [ 0,  0,  0,  0,  0,  0,  0,  0,  0], \n",
    "    [ 0,  0,  0,  0,  0,  0,  0,  0,  0],  \n",
    "    [ 0,  0,  0,  0,  0,  0,  0,  0,  0], \n",
    "    [ 0,  0, 20,  0,  0,  0, 20,  0,  0], \n",
    "    [ 0,  0,  0,  0,  0,  0,  0,  0,  0], \n",
    "    [18,  0,  0,  0, 23,  0,  0,  0, 18], \n",
    "    [ 0,  0,  0,  0,  0,  0,  0,  0,  0],\n",
    "    [ 0,  0, 20,  0,  0,  0, 20,  0,  0]]))\n",
    "    Hpst=np.array(([[90, 90, 90, 96, 90, 96, 90, 90, 90],\n",
    "    [90, 96,103, 97, 94, 97,103, 96, 90],\n",
    "    [92, 98, 99,103, 99,103, 99, 98, 92],\n",
    "    [93,108,100,107,100,107,100,108, 93],\n",
    "    [90,100, 99,103,104,103, 99,100, 90],\n",
    "    [90, 98,101,102,103,102,101, 98, 90],\n",
    "    [92, 94, 98, 95, 98, 95, 98, 94, 92],\n",
    "    [93, 92, 94, 95, 92, 95, 94, 92, 93],\n",
    "    [85, 90, 92, 93, 78, 93, 92, 90, 85],\n",
    "    [88, 85, 90, 88, 90, 88, 90, 85, 88]]))\n",
    "    Rpst=np.array(([[206,208,207,213,214,213,207,208,206],\n",
    "    [206,212,209,216,233,216,209,212,206],\n",
    "    [206,208,207,214,216,214,207,208,206],\n",
    "    [206,213,213,216,216,216,213,213,206],\n",
    "    [208,211,211,214,215,214,211,211,208],\n",
    "    [208,212,212,214,215,214,212,212,208],\n",
    "    [204,209,204,212,214,212,204,209,204],\n",
    "    [198,208,204,212,212,212,204,208,198],\n",
    "    [200,208,206,212,200,212,206,208,200],\n",
    "    [194,206,204,212,200,212,204,206,194]]))\n",
    "    Cpst=np.array(([[100,100, 96, 91, 90, 91, 96,100,100],\n",
    "     [98, 98, 96, 92, 89, 92, 96, 98, 98],\n",
    "     [97, 97, 96, 91, 92, 91, 96, 97, 97],\n",
    "     [96, 99, 99, 98,100, 98, 99, 99, 96],\n",
    "     [96, 96, 96, 96,100, 96, 96, 96, 96],\n",
    "     [95, 96, 99, 96,100, 96, 99, 96, 95],\n",
    "     [96, 96, 96, 96, 96, 96, 96, 96, 96],\n",
    "     [97, 96,100, 99,101, 99,100, 96, 97],\n",
    "     [96, 97, 98, 98, 98, 98, 98, 97, 96],\n",
    "     [96, 96, 97, 99, 99, 99, 97, 96, 96]]))\n",
    "    Spst=np.array(([[9,  9,  9, 11, 13, 11,  9,  9,  9],\n",
    "    [19, 24, 34, 42, 44, 42, 34, 24, 19],\n",
    "    [19, 24, 32, 37, 37, 37, 32, 24, 19],\n",
    "    [19, 23, 27, 29, 30, 29, 27, 23, 19],\n",
    "    [14, 18, 20, 27, 29, 27, 20, 18, 14],\n",
    "    [7,  0, 13,  0, 16,  0, 13,  0,  7],\n",
    "    [7,  0,  7,  0, 15,  0,  7,  0,  7],\n",
    "    [0,  0,  0,  0,  0,  0,  0,  0,  0],\n",
    "    [0,  0,  0,  0,  0,  0,  0,  0,  0],\n",
    "    [0,  0,  0,  0,  0,  0,  0,  0,  0]]))\n",
    "    rsum=0\n",
    "    bsum=0\n",
    "    isr=true\n",
    "    for i in range(len(board)):\n",
    "        for j in range(len(board[0])):\n",
    "            isr=board[i][j].isupper()\n",
    "            p=board[i][j].lower()\n",
    "            if(p=='s'):\n",
    "                if(isr):\n",
    "                    rsum+=Spst[i][j]\n",
    "                else:\n",
    "                    bsum+=Spst[i][j]\n",
    "            elif(p=='r'):\n",
    "                if(isr):\n",
    "                    rsum+=Rpst[i][j]\n",
    "                else:\n",
    "                    bsum+=Rpst[i][j]\n",
    "            elif(p=='h'):\n",
    "                if(isr):\n",
    "                    rsum+=Hpst[i][j]\n",
    "                else:\n",
    "                    bsum+=Hpst[i][j]\n",
    "            elif(p=='c'):\n",
    "                if(isr):\n",
    "                    rsum+=Cpst[i][j]\n",
    "                else:\n",
    "                    bsum+=Cpst[i][j]\n",
    "            elif(p=='e'):\n",
    "                if(isr):\n",
    "                    rsum+=Epst[i][j]\n",
    "                else:\n",
    "                    bsum+=Epst[i][j]\n",
    "            elif(p=='a'):\n",
    "                if(isr):\n",
    "                    rsum+=Apst[i][j]\n",
    "                else:\n",
    "                    bsum+=Apst[i][j]\n",
    "            elif(p=='g'):\n",
    "                if(isr):\n",
    "                    rsum+=Gpst[i][j]\n",
    "                else:\n",
    "                    bsum+=Gpst[i][j]\n",
    "    return rsum-gsum"
   ]
  },
  {
   "cell_type": "code",
   "execution_count": null,
   "metadata": {
    "collapsed": true
   },
   "outputs": [],
   "source": []
  }
 ],
 "metadata": {
  "kernelspec": {
   "display_name": "Python 3",
   "language": "python",
   "name": "python3"
  },
  "language_info": {
   "codemirror_mode": {
    "name": "ipython",
    "version": 3
   },
   "file_extension": ".py",
   "mimetype": "text/x-python",
   "name": "python",
   "nbconvert_exporter": "python",
   "pygments_lexer": "ipython3",
   "version": "3.5.1"
  }
 },
 "nbformat": 4,
 "nbformat_minor": 0
}
