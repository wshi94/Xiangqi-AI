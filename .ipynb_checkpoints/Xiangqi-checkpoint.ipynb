{
 "cells": [
  {
   "cell_type": "code",
   "execution_count": 4,
   "metadata": {
    "collapsed": false
   },
   "outputs": [],
   "source": [
    "#Engine is created as an extension of a board object\n",
    "#I made this way harder than it should have been,\n",
    "#Should have just been a string array, I'm too committed\n",
    "#Board can still just be used as a string array\n",
    "class Engine(Board):\n",
    "    def __init__(self):\n",
    "        Board.__init__(self)\n",
    "    \n",
    "    \n",
    "    def Display(self):\n",
    "        for i in range(len(self.board)):\n",
    "            for j in range(len(self.board[i])):\n",
    "                print(self.board[i][j], end= ' ')\n",
    "                \n",
    "            print()\n",
    "    \n",
    "    \n",
    "    #def ScanRank(Column, Piece):\n",
    "    #    for i in range(len(self.board)):\n",
    "    #        if(self.board[i][Column]==)\n",
    "    \n",
    "    #How to parse a piece move\n",
    "    def Input(self,Piece, FormerFile, Operator, NewFile):\n",
    "        #How does this work\n",
    "        if(Operator=='+'):\n",
    "            pass\n",
    "        elif(Operator=='-'):\n",
    "            pass\n",
    "        elif(Operator=='.'):\n",
    "            pass\n",
    "        elif(Operator=='='):\n",
    "            pass\n",
    "        \n",
    "        if(Piece=='A'):\n",
    "            #Advisor\n",
    "            pass\n",
    "        elif(Piece=='a'):\n",
    "            #Advisor\n",
    "            pass\n",
    "        \n",
    "        elif(Piece=='C'):#Cannon_red\n",
    "            Cannon_red.move(self,Piece, FormerFile, Operator, NewFile)       \n",
    "        elif(Piece=='c'):\n",
    "            #Advisor\n",
    "            pass\n",
    "            \n",
    "        elif(Piece=='R'):\n",
    "            #Chariot\n",
    "            pass\n",
    "        elif(Piece=='r'):\n",
    "            #Advisor\n",
    "            pass\n",
    "        \n",
    "        elif(Piece=='E'):\n",
    "            #Elephant\n",
    "            pass\n",
    "        elif(Piece=='e'):\n",
    "            #Advisor\n",
    "            pass\n",
    "        \n",
    "        elif(Piece=='G'):\n",
    "            #General\n",
    "            pass\n",
    "        elif(Piece=='g'):\n",
    "            #Advisor\n",
    "            pass\n",
    "        \n",
    "        elif(Piece=='H'):\n",
    "            #Horse\n",
    "            pass\n",
    "        elif(Piece=='h'):\n",
    "            #horse\n",
    "            Horse_black.move(self,Piece, FormerFile, Operator, NewFile) \n",
    "            pass\n",
    "        \n",
    "        elif(Piece=='S'):\n",
    "            #Soldier\n",
    "            pass\n",
    "        elif(Piece=='s'):\n",
    "            #Advisor\n",
    "            pass\n",
    "     \n",
    "    #Move rules for each piece should be here    \n",
    "    def MoveGeneral():\n",
    "        pass"
   ]
  },
  {
   "cell_type": "code",
   "execution_count": null,
   "metadata": {
    "collapsed": true
   },
   "outputs": [],
   "source": []
  },
  {
   "cell_type": "code",
   "execution_count": 3,
   "metadata": {
    "collapsed": false
   },
   "outputs": [],
   "source": [
    "#Create board and generate pieces\n",
    "class Board:\n",
    "    def __init__(self):\n",
    "        self.board = [['.']*9 for _ in range(10)]\n",
    "        #Generate all pieces\n",
    "        Piece.__init__(self)"
   ]
  },
  {
   "cell_type": "code",
   "execution_count": 23,
   "metadata": {
    "collapsed": false
   },
   "outputs": [
    {
     "name": "stdout",
     "output_type": "stream",
     "text": [
      "r h e a g a e h r \n",
      ". . . . . . . . . \n",
      ". c . . . . . c . \n",
      "s . s . s . s . s \n",
      ". . . . . . . . . \n",
      ". . . . . . . . . \n",
      "S . S . S . S . S \n",
      ". C . . . . . C . \n",
      ". . . . . . . . . \n",
      "R H E R G R E H R \n"
     ]
    }
   ],
   "source": [
    "x= Engine()\n",
    "x.Display()"
   ]
  },
  {
   "cell_type": "code",
   "execution_count": 6,
   "metadata": {
    "collapsed": true
   },
   "outputs": [],
   "source": [
    "#Wrapper class for all pieces\n",
    "class Piece(Board):\n",
    "    def __init__(self):\n",
    "        #Insert inits for each piece here\n",
    "        #black start\n",
    "        RR1=Chariot_black.__init__(self, 0, 0, \"black\")\n",
    "        RH1=Horse_black.__init__(self, 0, 1, \"black\")\n",
    "        RE1=Elephant_black.__init__(self, 0, 2, \"black\")\n",
    "        RA1=Advisor_black.__init__(self, 0, 3, \"black\")\n",
    "        RG=General_black.__init__(self, 0, 4, \"black\")\n",
    "        RA2=Advisor_black.__init__(self, 0, 5, \"black\")\n",
    "        RE2=Elephant_black.__init__(self, 0, 6, \"black\")\n",
    "        RH2=Horse_black.__init__(self, 0, 7, \"black\")\n",
    "        RR2=Chariot_black.__init__(self, 0, 8, \"black\")\n",
    "        RC1=Cannon_black.__init__(self, 2, 1, \"black\")\n",
    "        RC2=Cannon_black.__init__(self, 2, 7, \"black\")\n",
    "        RS1=Soldier_black.__init__(self, 3, 0, \"black\")\n",
    "        RS2=Soldier_black.__init__(self, 3, 2, \"black\")\n",
    "        RS3=Soldier_black.__init__(self, 3, 4, \"black\")\n",
    "        RS4=Soldier_black.__init__(self, 3, 6, \"black\")\n",
    "        RS5=Soldier_black.__init__(self, 3, 8, \"black\")\n",
    "        #red\n",
    "        R1=Chariot_red.__init__(self, 9, 0, \"red\")\n",
    "        RH1=Horse_red.__init__(self, 9, 1, \"red\")\n",
    "        RE1=Elephant_red.__init__(self, 9, 2, \"red\")\n",
    "        RA1=Advisor_red.__init__(self, 9, 3, \"red\")\n",
    "        RG=General_red.__init__(self, 9, 4, \"red\")\n",
    "        RA2=Advisor_red.__init__(self, 9, 5, \"red\")\n",
    "        RE2=Elephant_red.__init__(self, 9, 6, \"red\")\n",
    "        RH2=Horse_red.__init__(self, 9, 7, \"red\")\n",
    "        RR2=Chariot_red.__init__(self, 9, 8, \"red\")\n",
    "        RC1=Cannon_red.__init__(self, 7, 1, \"red\")\n",
    "        RC2=Cannon_red.__init__(self, 7, 7, \"red\")\n",
    "        RS1=Soldier_red.__init__(self, 6, 0, \"red\")\n",
    "        RS2=Soldier_red.__init__(self, 6, 2, \"red\")\n",
    "        RS3=Soldier_red.__init__(self, 6, 4, \"red\")\n",
    "        RS4=Soldier_red.__init__(self, 6, 6, \"red\")\n",
    "        RS5=Soldier_red.__init__(self, 6, 8, \"red\")\n",
    "        \n"
   ]
  },
  {
   "cell_type": "code",
   "execution_count": 7,
   "metadata": {
    "collapsed": false
   },
   "outputs": [],
   "source": [
    "class Elephant_black(Piece):\n",
    "    def __init__(self, posx, posy, color):\n",
    "        Ptype=color\n",
    "        self.board[posx][posy]='e'\n",
    "    \n",
    "    \n",
    "    def __class__(self):\n",
    "        return 'e'\n",
    "    \n",
    "    def move(posx, posy):\n",
    "        #how2move\n",
    "        pass"
   ]
  },
  {
   "cell_type": "code",
   "execution_count": 8,
   "metadata": {
    "collapsed": true
   },
   "outputs": [],
   "source": [
    "class Elephant_red(Piece):\n",
    "    def __init__(self, posx, posy, color):\n",
    "        Ptype=color\n",
    "        self.board[posx][posy]='E'\n",
    "    \n",
    "    \n",
    "    def __class__(self):\n",
    "        return 'E'\n",
    "    \n",
    "    def move(posx, posy):\n",
    "        #how2move\n",
    "        pass\n"
   ]
  },
  {
   "cell_type": "code",
   "execution_count": 10,
   "metadata": {
    "collapsed": false
   },
   "outputs": [],
   "source": [
    "class Horse_black:\n",
    "    def __init__(self, posx, posy, color):\n",
    "        Ptype=color\n",
    "        self.board[posx][posy]='h'\n",
    "        \n",
    "    def move(self,Piece, FormerFile, Operator, NewFile):\n",
    "        pass"
   ]
  },
  {
   "cell_type": "code",
   "execution_count": 11,
   "metadata": {
    "collapsed": true
   },
   "outputs": [],
   "source": [
    "class Horse_red:\n",
    "    def __init__(self, posx, posy, color):\n",
    "        Ptype=color\n",
    "        self.board[posx][posy]='H'"
   ]
  },
  {
   "cell_type": "code",
   "execution_count": 12,
   "metadata": {
    "collapsed": false
   },
   "outputs": [],
   "source": [
    "class Chariot_black:\n",
    "    def __init__(self, posx, posy, color):\n",
    "        Ptype=color\n",
    "        self.board[posx][posy]='r'\n",
    "    \n",
    "    def move(posx, posy):\n",
    "        #how2move\n",
    "        #moves exactly like the rook in western chess: \n",
    "        #as many spaces as it wishes horizontally or vertically, \n",
    "        #until it meets another piece or the edge of the board.\n",
    "        pass\n",
    "    "
   ]
  },
  {
   "cell_type": "code",
   "execution_count": 13,
   "metadata": {
    "collapsed": true
   },
   "outputs": [],
   "source": [
    "class Chariot_red:\n",
    "    def __init__(self, posx, posy, color):\n",
    "        Ptype=color\n",
    "        self.board[posx][posy]='R'\n",
    "    \n",
    "    def move(posx, posy):\n",
    "        #how2move\n",
    "        #moves exactly like the rook in western chess: \n",
    "        #as many spaces as it wishes horizontally or vertically, \n",
    "        #until it meets another piece or the edge of the board.\n",
    "        pass"
   ]
  },
  {
   "cell_type": "code",
   "execution_count": 14,
   "metadata": {
    "collapsed": false
   },
   "outputs": [],
   "source": [
    "class Advisor_black:\n",
    "    def __init__(self, posx, posy, color):\n",
    "        Ptype=color\n",
    "        self.board[posx][posy]='a'\n",
    "    \n"
   ]
  },
  {
   "cell_type": "code",
   "execution_count": 15,
   "metadata": {
    "collapsed": true
   },
   "outputs": [],
   "source": [
    "class Advisor_red:\n",
    "    def __init__(self, posx, posy, color):\n",
    "        Ptype=color\n",
    "        self.board[posx][posy]='R'\n",
    "    "
   ]
  },
  {
   "cell_type": "code",
   "execution_count": 16,
   "metadata": {
    "collapsed": true
   },
   "outputs": [],
   "source": [
    "class Cannon_black:\n",
    "    def __init__(self, posx, posy, color):\n",
    "        Ptype=color\n",
    "        self.board[posx][posy]='c'\n",
    "        \n",
    "    def move(posx, posy):\n",
    "        #how2move\n",
    "        #when not captuing, it moves like the Chariot\n",
    "        #But to capture, it must have a piece, friend or foe, in line to jump over.\n",
    "        \n",
    "        \n",
    "        pass\n",
    "    \n",
    "    \n"
   ]
  },
  {
   "cell_type": "code",
   "execution_count": 17,
   "metadata": {
    "collapsed": true
   },
   "outputs": [],
   "source": [
    "class Cannon_red:\n",
    "    def __init__(self, posx, posy, color):\n",
    "        Ptype=color\n",
    "        self.board[posx][posy]='C'\n",
    "        \n",
    "    def move(self,Piece, FormerFile, Operator, NewFile):\n",
    "        #TODO: instructions are differnt for Piece = lowercase'c' \n",
    "            \n",
    "        #when not captuing, it moves like the Chariot\n",
    "        #But to capture, it must have a piece, friend or foe, in line to jump over.\n",
    "        for i in range(len(self.board)):\n",
    "            for j in range(len(self.board[i])):\n",
    "                if self.board[i][j]=='C': #Search where C is right now\n",
    "                    if j + FormerFile == 9:#there are 2 'C's. choose the one that is specified in this move\n",
    "                        self.board[i][j]='*'\n",
    "                            \n",
    "                        if Operator == '=': #same row, move column\n",
    "                            new_col = 9-NewFile\n",
    "                            if self.board[i][new_col] == '.':#not capturing\n",
    "                                self.board[i][new_col]='C'\n",
    "                            #else:#capturing- must have a piece in line to jump over.\n",
    "                                #TODO\n",
    "                                    \n",
    "                        elif Operator == '+': #move row, same column\n",
    "                            #TODO - check if this is correct\n",
    "                            new_row = i-NewFile\n",
    "                            print (new_row)\n",
    "                            self.board[new_row][j]=='C'\n",
    "                            #TODO- capturing, not capturing\n",
    "                            \n",
    "                        else:\n",
    "                            print(\"error\")\n",
    "        \n",
    "        #ex\n",
    "        #C2=5: previously at column 2(from the right)\n",
    "        #      moves in the same row(=), to column5\n",
    "\n",
    "        #ex\n",
    "        #C7+7: previously at column 7(from the right)\n",
    "        #      moves in the same colum upwards 7 units(+7)\n",
    "        \n",
    "        \n",
    "        \n",
    "        \n",
    "        \n",
    "        pass\n",
    "    \n",
    "    \n"
   ]
  },
  {
   "cell_type": "code",
   "execution_count": 18,
   "metadata": {
    "collapsed": true
   },
   "outputs": [],
   "source": [
    "class General_black:\n",
    "    def __init__(self, posx, posy, color):\n",
    "        Ptype=color\n",
    "        self.board[posx][posy]='g'\n",
    "        \n",
    "    def move(posx, posy):\n",
    "        #how2move\n",
    "        #one space at a time - left, right, forward or backward\n",
    "        #confined to nine point fortress\n",
    "        \n",
    "        \n",
    "        pass\n",
    "    "
   ]
  },
  {
   "cell_type": "code",
   "execution_count": 19,
   "metadata": {
    "collapsed": false
   },
   "outputs": [],
   "source": [
    "class General_red:\n",
    "    def __init__(self, posx, posy, color):\n",
    "        Ptype=color\n",
    "        self.board[posx][posy]='G'\n",
    "        \n",
    "    def move(posx, posy):\n",
    "        #how2move\n",
    "        #one space at a time - left, right, forward or backward\n",
    "        #confined to nine point fortress\n",
    "        \n",
    "        \n",
    "        pass\n",
    "    \n"
   ]
  },
  {
   "cell_type": "code",
   "execution_count": 20,
   "metadata": {
    "collapsed": true
   },
   "outputs": [],
   "source": [
    "class Soldier_black:\n",
    "    def __init__(self, posx, posy, color):\n",
    "        Ptype=color\n",
    "        self.board[posx][posy]='s'\n",
    "    "
   ]
  },
  {
   "cell_type": "code",
   "execution_count": 21,
   "metadata": {
    "collapsed": true
   },
   "outputs": [],
   "source": [
    "class Soldier_red:\n",
    "    def __init__(self, posx, posy, color):\n",
    "        Ptype=color\n",
    "        self.board[posx][posy]='S'\n",
    "    \n"
   ]
  },
  {
   "cell_type": "code",
   "execution_count": null,
   "metadata": {
    "collapsed": true
   },
   "outputs": [],
   "source": []
  },
  {
   "cell_type": "code",
   "execution_count": 24,
   "metadata": {
    "collapsed": false
   },
   "outputs": [
    {
     "name": "stdout",
     "output_type": "stream",
     "text": [
      "r h e a g a e h r \n",
      ". . . . . . . . . \n",
      ". c . . . . . c . \n",
      "s . s . s . s . s \n",
      ". . . . . . . . . \n",
      ". . . . . . . . . \n",
      "S . S . S . S . S \n",
      ". C . . C . . * . \n",
      ". . . . . . . . . \n",
      "R H E R G R E H R \n"
     ]
    }
   ],
   "source": [
    "#C2=5\n",
    "#x.board[7][7]='.'#original\n",
    "#x.board[7][4]='C'#same row, to column5\n",
    "x.Input('C',2,'=',5)\n",
    "x.Display()"
   ]
  },
  {
   "cell_type": "code",
   "execution_count": 27,
   "metadata": {
    "collapsed": false
   },
   "outputs": [],
   "source": [
    "x.Input('h',8,'-',7)"
   ]
  },
  {
   "cell_type": "code",
   "execution_count": 28,
   "metadata": {
    "collapsed": false
   },
   "outputs": [
    {
     "name": "stdout",
     "output_type": "stream",
     "text": [
      "r h e a g a e h r \n",
      ". . . . . . . . . \n",
      ". c . . . . . c . \n",
      "s . s . s . s . s \n",
      ". . . . . . . . . \n",
      ". . . . . . . . . \n",
      "S . S . S . S . S \n",
      ". C . . C . . * . \n",
      ". . . . . . . . . \n",
      "R H E R G R E H R \n"
     ]
    }
   ],
   "source": [
    "x.Display()"
   ]
  },
  {
   "cell_type": "code",
   "execution_count": null,
   "metadata": {
    "collapsed": true
   },
   "outputs": [],
   "source": []
  }
 ],
 "metadata": {
  "kernelspec": {
   "display_name": "Python 3",
   "language": "python",
   "name": "python3"
  },
  "language_info": {
   "codemirror_mode": {
    "name": "ipython",
    "version": 3
   },
   "file_extension": ".py",
   "mimetype": "text/x-python",
   "name": "python",
   "nbconvert_exporter": "python",
   "pygments_lexer": "ipython3",
   "version": "3.4.4"
  }
 },
 "nbformat": 4,
 "nbformat_minor": 0
}
